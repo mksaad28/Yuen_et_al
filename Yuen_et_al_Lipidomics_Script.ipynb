{
 "cells": [
  {
   "cell_type": "code",
   "execution_count": 28,
   "metadata": {},
   "outputs": [],
   "source": [
    "import numpy as np\n",
    "import pandas as pd\n",
    "import matplotlib.pyplot as plt\n",
    "import seaborn as sns\n",
    "from sklearn.preprocessing import StandardScaler\n",
    "from sklearn.decomposition import PCA"
   ]
  },
  {
   "cell_type": "code",
   "execution_count": 29,
   "metadata": {},
   "outputs": [],
   "source": [
    "# This cell should be the only one that changes, as this is where the dataset and corresponding sample information\n",
    "date = '122421'\n",
    "df = pd.read_excel('122421PjyuenLipidomics1_6.xlt', header=12) # Make sure to change header depending on your data file\n",
    "# Make sure sample names is in same order as data\n",
    "I500 = ['I5001','I5002','I5003']\n",
    "I1000 = ['I10001','I10002','I10003']\n",
    "\n",
    "sample_names = I1000+I500\n",
    "sample_names_plotting = sample_names # Change if you want plots in a different order than sample names\n",
    "\n",
    "groups = {'I1000':I1000, 'I500':I500}\n",
    "\n",
    "hue_order_list = ['I500','I1000']\n",
    "\n",
    "\n",
    "num_fatty_acid_columns = 3 # Change to 4 if there is an FA4 column"
   ]
  },
  {
   "cell_type": "markdown",
   "metadata": {},
   "source": [
    "### Functions"
   ]
  },
  {
   "cell_type": "code",
   "execution_count": 30,
   "metadata": {},
   "outputs": [],
   "source": [
    "def strfilter(func, s: str) -> str:\n",
    "    \"\"\"\n",
    "    Return a string containing all characters in s such that func(s) is true.\n",
    "    \"\"\"\n",
    "    return ''.join(i for i in s if func(i))\n",
    "def get_sat(s):\n",
    "    new = ''\n",
    "    i = 0\n",
    "    while not str.isdecimal(s[i]):\n",
    "        i += 1\n",
    "    while i < len(s) and str.isdecimal(s[i]):\n",
    "        new += s[i]\n",
    "        i += 1\n",
    "    return new\n",
    "def average_samples(data):\n",
    "    for k, v in groups.items():\n",
    "        if len(v) > 1:\n",
    "            data[k] = data.loc[:, v].mean(axis=1)\n",
    "    return data\n",
    "def name_map(name: str) -> str:\n",
    "    for k, v in groups.items():\n",
    "        if name in v:\n",
    "            return k\n",
    "    return name"
   ]
  },
  {
   "cell_type": "code",
   "execution_count": 31,
   "metadata": {},
   "outputs": [],
   "source": [
    "# constants\n",
    "phospholipids = ['PC', 'PE', 'LPC', 'LPE', 'PS', 'LPS', 'PG', 'LPG', 'PA',\n",
    "                 'LPA', 'PI', 'LPI', 'PIP', 'PIP2', 'PIP3', 'CL', 'PGP',\n",
    "                 'PPA', 'CDP-DG', 'SM']\n",
    "atom_masses = {'C': 12.011, 'N': 14.007, 'H': 1.008, 'O': 15.999, 'P': 30.974}\n",
    "tails_1 = {i: 1 for i in ['LPC','LPE','LPS','LPG','LPA','LPI']}\n",
    "tails_2 = {i:2 for i in ['PC','PE','PS','PA','PI','PIP','PIP2','PIP3','PGP','PPA', 'CDP-DG','SM']}\n",
    "tails_3_4 = { 'TG':3,'CL':4}\n",
    "\n",
    "from itertools import chain\n",
    "tails = dict(chain.from_iterable(d.items() for d in (tails_1, tails_2, tails_3_4)))\n",
    "\n",
    "sample_columns = ['Area[c-' + str(sample + 1) + ']' for sample in range(0, len(sample_names))]\n",
    "fa_columns = ['FA' + str(i) for i in range(1, num_fatty_acid_columns + 1)]"
   ]
  },
  {
   "cell_type": "code",
   "execution_count": 32,
   "metadata": {},
   "outputs": [],
   "source": [
    "def sum_areas(data):\n",
    "    \"\"\"\n",
    "    Sum the areas corresponding to each fatty acid.\n",
    "    \n",
    "    Args:\n",
    "        data: a pandas dataframe with lipids as index and columns corresponding to\n",
    "        the fatty acids in each lipid and the area calculated for that lipid in each sample\n",
    "    Returns:\n",
    "        a new pandas dataframe with fatty acids as index and columns for each sample, where the\n",
    "        value at df.loc[fatty_acid, sample] is the sum of the areas for that sample in rows of\n",
    "        data where fatty_acid is one of the fatty acids in the lipid, counting multiple times if\n",
    "        the fatty acid appears multiple times in that lipid.\n",
    "    \"\"\"\n",
    "    # we treat '(12:2p)' and '(12:2)' as the same fatty acid\n",
    "    data.loc[:, fa_columns] = data.loc[:, fa_columns].applymap(standardize_formula)\n",
    "    dfs = [data[sample_columns].groupby(data[i]).sum()\n",
    "           for i in fa_columns]\n",
    "    return pd.concat(dfs).groupby(level=0).sum()"
   ]
  },
  {
   "cell_type": "code",
   "execution_count": 33,
   "metadata": {},
   "outputs": [],
   "source": [
    "def remove_wrong_fatty_acid_counts(data):\n",
    "    \"\"\"\n",
    "    If the  fatty acid count does not match the lipid class' expected fatty acid count, the row will be dropped\n",
    "    \"\"\"\n",
    "    data['right_fa_count'] = False\n",
    "    for i, row in data.iterrows():\n",
    "        try:\n",
    "            if tails[row['Class']] == num_fatty_acid_columns - row[fa_columns].isna().sum():\n",
    "                data.loc[i, 'right_fa_count'] = True\n",
    "        except KeyError:\n",
    "            data.loc[i, 'right_fa_count'] = True\n",
    "    return data[data['right_fa_count']]"
   ]
  },
  {
   "cell_type": "code",
   "execution_count": 34,
   "metadata": {},
   "outputs": [],
   "source": [
    "def how_much_saturated(formula: str) -> str:\n",
    "    \"\"\"\n",
    "    From a formula of the form '(14:2)', extract the number of double bonds and return\n",
    "    the saturation level ('saturated', 'mono', or 'poly').\n",
    "    \"\"\"\n",
    "    double_bonds = int(formula.split(':')[1].split(' ')[0])\n",
    "    if double_bonds == 0:\n",
    "        return 'saturated'\n",
    "    elif double_bonds == 1:\n",
    "        return 'mono'\n",
    "    else:\n",
    "        return 'poly'"
   ]
  },
  {
   "cell_type": "code",
   "execution_count": 35,
   "metadata": {},
   "outputs": [],
   "source": [
    "def standardize_formula(formula: str) -> str:\n",
    "    \"\"\"\n",
    "    Transform formulas of the form '(12:20p)' to the form '12:20'.\n",
    "    \"\"\"\n",
    "    if pd.isna(formula):\n",
    "        return formula\n",
    "    try:\n",
    "        a, b = formula.split(':')\n",
    "    except ValueError:\n",
    "        return formula[1:-1]\n",
    "    a = get_sat(a)\n",
    "    b = get_sat(b)\n",
    "    # a = strfilter(str.isdecimal, a)\n",
    "    # b = strfilter(str.isdecimal, b)\n",
    "    return a + ':' + b"
   ]
  },
  {
   "cell_type": "code",
   "execution_count": 36,
   "metadata": {},
   "outputs": [],
   "source": [
    "def rename_parts(data):\n",
    "    \"\"\"\n",
    "    Replace the column names 'Area[c-1]', 'Area[c-2]', etc with names corresponding to each sample\n",
    "    \"\"\"\n",
    "\n",
    "    data.columns = sample_names\n",
    "    return data"
   ]
  },
  {
   "cell_type": "code",
   "execution_count": 37,
   "metadata": {},
   "outputs": [],
   "source": [
    "def prepare_for_graphing(data):\n",
    "    \"\"\"\n",
    "    Reshape a dataframe for easier graphing.\n",
    "\n",
    "    Concatenate the columns of a dataframe, adding a column named 'orig_sample' with the original column name,\n",
    "    a column named 'sample' with the sample condition, and a column named 'kind' with the values of the index.\n",
    "    \"\"\"\n",
    "    dfs = []\n",
    "    for sample in sample_names:\n",
    "        a = data.loc[:, sample] \\\n",
    "                .to_frame() \\\n",
    "                .rename(columns={sample: 'fraction'})\n",
    "        a['orig_sample'] = sample\n",
    "        dfs.append(a)\n",
    "    combined = pd.concat(dfs)\n",
    "    combined['kind'] = combined.index\n",
    "    combined['sample'] = combined['orig_sample'].map(name_map)\n",
    "    return combined"
   ]
  },
  {
   "cell_type": "code",
   "execution_count": 38,
   "metadata": {},
   "outputs": [],
   "source": [
    "def graph_fatty_acids(data, title: str):\n",
    "    \"\"\"\n",
    "    Generate a heat map and bar graph showing the fraction of the most common fatty acids in each sample.\n",
    "    \"\"\"\n",
    "    largest_rows = data \\\n",
    "                    .sum(axis=1) \\\n",
    "                    .sort_values(ascending=False) \\\n",
    "                    .iloc[:15] \\\n",
    "                    .index\n",
    "    a = data / data.sum()\n",
    "    a = a.loc[largest_rows, sample_names]\n",
    "    fig = plt.figure(figsize=(15, 5))\n",
    "    \n",
    "    # heatmap\n",
    "    plt.subplot(1, 2, 1)\n",
    "    \n",
    "    ax = sns.heatmap(a[sample_names_plotting], vmin=0, vmax=.35)\n",
    "    ax.set_title(title)\n",
    "    ax.set_xlabel('sample')\n",
    "    \n",
    "    # bar graph\n",
    "    plt.subplot(1, 2, 2)\n",
    "    a = prepare_for_graphing(a)\n",
    "    ax = sns.barplot(x='kind', y='fraction', hue='sample', hue_order = hue_order_list,data=a, ci=None)\n",
    "    plt.ylim(0, .35)\n",
    "    ax.set_title(title)\n",
    "    ax.set_xlabel('fatty acid')\n",
    "    fig.autofmt_xdate() # Tilt and align the x-axis labels"
   ]
  },
  {
   "cell_type": "code",
   "execution_count": 39,
   "metadata": {},
   "outputs": [],
   "source": [
    "def graph_saturation(data, title: str):\n",
    "    \"\"\"\n",
    "    Generate a bar graph showing the fraction of saturated fats in each condition.\n",
    "    \"\"\"\n",
    "    a = data.groupby([how_much_saturated(x) for x in data.index]).sum()\n",
    "    a = a / a.sum()\n",
    "    plt.ylim(0, .8)\n",
    "    a = prepare_for_graphing(a)\n",
    "    ax = sns.barplot(x='sample', y='fraction', hue='kind',data=a, ci=None)\n",
    "    ax.set_title(title + ' saturated / monounsaturated / polyunsaturated')"
   ]
  },
  {
   "cell_type": "code",
   "execution_count": 40,
   "metadata": {},
   "outputs": [],
   "source": [
    "def run_pca(data):\n",
    "    data_pca = data.T.iloc[0:15]\n",
    "\n",
    "    # normalize to mean 0 and variance 1\n",
    "    scaler = StandardScaler() \n",
    "    scaler.fit(data_pca)\n",
    "    scaled_data = scaler.transform(data_pca)\n",
    "    \n",
    "    # project data onto PCA dimensions\n",
    "    pca = PCA(n_components = 2)\n",
    "    pca.fit(scaled_data)\n",
    "    components = pca.transform(scaled_data)\n",
    "    \n",
    "    loading_vectors = pd.DataFrame(pca.components_.T, columns=['PC1', 'PC2'], index=data_pca.columns)\n",
    "    pca_values_df = pd.DataFrame(data = components, columns = ['PC1', 'PC2'])\n",
    "    pca_values_df['sample'] = data_pca.index\n",
    "    return loading_vectors, pca_values_df"
   ]
  },
  {
   "cell_type": "code",
   "execution_count": 41,
   "metadata": {},
   "outputs": [],
   "source": [
    "def graph_pca(data, title: str):\n",
    "    fig = plt.figure(figsize = (8,8))\n",
    "    data['sample'] = data['sample'].map(name_map)\n",
    "    ax = sns.scatterplot(x='PC1', y='PC2', hue='sample', hue_order = ['7d', 'I0','I120','I500','I1000'],data=data, s=100)\n",
    "    ax.set_xlabel('PC1', fontsize = 15)\n",
    "    ax.set_ylabel('PC2', fontsize = 15)\n",
    "    ax.set_title('PCA - ' + title, fontsize = 20)\n",
    "    ax.grid()"
   ]
  },
  {
   "cell_type": "markdown",
   "metadata": {},
   "source": [
    "### Data Processing"
   ]
  },
  {
   "cell_type": "code",
   "execution_count": 42,
   "metadata": {},
   "outputs": [],
   "source": [
    "df = remove_wrong_fatty_acid_counts(df)"
   ]
  },
  {
   "cell_type": "code",
   "execution_count": 43,
   "metadata": {},
   "outputs": [
    {
     "data": {
      "text/html": [
       "<div>\n",
       "<style scoped>\n",
       "    .dataframe tbody tr th:only-of-type {\n",
       "        vertical-align: middle;\n",
       "    }\n",
       "\n",
       "    .dataframe tbody tr th {\n",
       "        vertical-align: top;\n",
       "    }\n",
       "\n",
       "    .dataframe thead th {\n",
       "        text-align: right;\n",
       "    }\n",
       "</style>\n",
       "<table border=\"1\" class=\"dataframe\">\n",
       "  <thead>\n",
       "    <tr style=\"text-align: right;\">\n",
       "      <th></th>\n",
       "      <th>Rej.</th>\n",
       "      <th>LipidIon</th>\n",
       "      <th>LipidGroup</th>\n",
       "      <th>Class</th>\n",
       "      <th>FattyAcid</th>\n",
       "      <th>FA1</th>\n",
       "      <th>FA2</th>\n",
       "      <th>FA3</th>\n",
       "      <th>CalcMz</th>\n",
       "      <th>IonFormula</th>\n",
       "      <th>...</th>\n",
       "      <th>Rt[c-4]</th>\n",
       "      <th>Rt[c-5]</th>\n",
       "      <th>Rt[c-6]</th>\n",
       "      <th>Delta(ppm)[c-1]</th>\n",
       "      <th>Delta(ppm)[c-2]</th>\n",
       "      <th>Delta(ppm)[c-3]</th>\n",
       "      <th>Delta(ppm)[c-4]</th>\n",
       "      <th>Delta(ppm)[c-5]</th>\n",
       "      <th>Delta(ppm)[c-6]</th>\n",
       "      <th>right_fa_count</th>\n",
       "    </tr>\n",
       "  </thead>\n",
       "  <tbody>\n",
       "    <tr>\n",
       "      <th>0</th>\n",
       "      <td>1</td>\n",
       "      <td>AcCa(14:0)+H</td>\n",
       "      <td>AcCa(14:0)+H</td>\n",
       "      <td>AcCa</td>\n",
       "      <td>(14:0)</td>\n",
       "      <td>(14:0)</td>\n",
       "      <td>NaN</td>\n",
       "      <td>NaN</td>\n",
       "      <td>372.310835</td>\n",
       "      <td>C21 H42 O4 N1</td>\n",
       "      <td>...</td>\n",
       "      <td>3.376</td>\n",
       "      <td>3.286</td>\n",
       "      <td>3.264</td>\n",
       "      <td>0.012167</td>\n",
       "      <td>0.012167</td>\n",
       "      <td>0.783029</td>\n",
       "      <td>0.012167</td>\n",
       "      <td>0.012167</td>\n",
       "      <td>0.012167</td>\n",
       "      <td>True</td>\n",
       "    </tr>\n",
       "    <tr>\n",
       "      <th>1</th>\n",
       "      <td>0</td>\n",
       "      <td>AcCa(16:0)+H</td>\n",
       "      <td>AcCa(16:0)+H</td>\n",
       "      <td>AcCa</td>\n",
       "      <td>(16:0)</td>\n",
       "      <td>(16:0)</td>\n",
       "      <td>NaN</td>\n",
       "      <td>NaN</td>\n",
       "      <td>400.342135</td>\n",
       "      <td>C23 H46 O4 N1</td>\n",
       "      <td>...</td>\n",
       "      <td>5.080</td>\n",
       "      <td>4.987</td>\n",
       "      <td>5.036</td>\n",
       "      <td>0.678245</td>\n",
       "      <td>0.755679</td>\n",
       "      <td>0.533369</td>\n",
       "      <td>0.385845</td>\n",
       "      <td>0.018659</td>\n",
       "      <td>0.460931</td>\n",
       "      <td>True</td>\n",
       "    </tr>\n",
       "    <tr>\n",
       "      <th>2</th>\n",
       "      <td>0</td>\n",
       "      <td>AcCa(16:1)+H</td>\n",
       "      <td>AcCa(16:1)+H</td>\n",
       "      <td>AcCa</td>\n",
       "      <td>(16:1)</td>\n",
       "      <td>(16:1)</td>\n",
       "      <td>NaN</td>\n",
       "      <td>NaN</td>\n",
       "      <td>398.326485</td>\n",
       "      <td>C23 H44 O4 N1</td>\n",
       "      <td>...</td>\n",
       "      <td>3.511</td>\n",
       "      <td>3.438</td>\n",
       "      <td>3.541</td>\n",
       "      <td>0.744440</td>\n",
       "      <td>0.541089</td>\n",
       "      <td>1.203862</td>\n",
       "      <td>0.186957</td>\n",
       "      <td>0.209702</td>\n",
       "      <td>0.586278</td>\n",
       "      <td>True</td>\n",
       "    </tr>\n",
       "    <tr>\n",
       "      <th>3</th>\n",
       "      <td>0</td>\n",
       "      <td>AcCa(18:0)+H</td>\n",
       "      <td>AcCa(18:0)+H</td>\n",
       "      <td>AcCa</td>\n",
       "      <td>(18:0)</td>\n",
       "      <td>(18:0)</td>\n",
       "      <td>NaN</td>\n",
       "      <td>NaN</td>\n",
       "      <td>428.373435</td>\n",
       "      <td>C25 H50 O4 N1</td>\n",
       "      <td>...</td>\n",
       "      <td>8.730</td>\n",
       "      <td>8.561</td>\n",
       "      <td>8.624</td>\n",
       "      <td>0.493798</td>\n",
       "      <td>0.379412</td>\n",
       "      <td>0.363071</td>\n",
       "      <td>0.232344</td>\n",
       "      <td>0.484460</td>\n",
       "      <td>0.799606</td>\n",
       "      <td>True</td>\n",
       "    </tr>\n",
       "    <tr>\n",
       "      <th>4</th>\n",
       "      <td>0</td>\n",
       "      <td>AcCa(18:1)+H</td>\n",
       "      <td>AcCa(18:1)+H</td>\n",
       "      <td>AcCa</td>\n",
       "      <td>(18:1)</td>\n",
       "      <td>(18:1)</td>\n",
       "      <td>NaN</td>\n",
       "      <td>NaN</td>\n",
       "      <td>426.357785</td>\n",
       "      <td>C25 H48 O4 N1</td>\n",
       "      <td>...</td>\n",
       "      <td>5.295</td>\n",
       "      <td>5.266</td>\n",
       "      <td>5.218</td>\n",
       "      <td>0.578223</td>\n",
       "      <td>0.078643</td>\n",
       "      <td>0.034079</td>\n",
       "      <td>0.639064</td>\n",
       "      <td>0.786968</td>\n",
       "      <td>0.435151</td>\n",
       "      <td>True</td>\n",
       "    </tr>\n",
       "    <tr>\n",
       "      <th>...</th>\n",
       "      <td>...</td>\n",
       "      <td>...</td>\n",
       "      <td>...</td>\n",
       "      <td>...</td>\n",
       "      <td>...</td>\n",
       "      <td>...</td>\n",
       "      <td>...</td>\n",
       "      <td>...</td>\n",
       "      <td>...</td>\n",
       "      <td>...</td>\n",
       "      <td>...</td>\n",
       "      <td>...</td>\n",
       "      <td>...</td>\n",
       "      <td>...</td>\n",
       "      <td>...</td>\n",
       "      <td>...</td>\n",
       "      <td>...</td>\n",
       "      <td>...</td>\n",
       "      <td>...</td>\n",
       "      <td>...</td>\n",
       "      <td>...</td>\n",
       "    </tr>\n",
       "    <tr>\n",
       "      <th>1990</th>\n",
       "      <td>0</td>\n",
       "      <td>ZyE(16:0)+H</td>\n",
       "      <td>ZyE(16:0)+H</td>\n",
       "      <td>ZyE</td>\n",
       "      <td>(16:0)</td>\n",
       "      <td>(16:0)</td>\n",
       "      <td>NaN</td>\n",
       "      <td>NaN</td>\n",
       "      <td>623.576156</td>\n",
       "      <td>C43 H75 O2</td>\n",
       "      <td>...</td>\n",
       "      <td>23.728</td>\n",
       "      <td>23.707</td>\n",
       "      <td>23.788</td>\n",
       "      <td>0.005661</td>\n",
       "      <td>0.005661</td>\n",
       "      <td>1000000.000000</td>\n",
       "      <td>0.005661</td>\n",
       "      <td>0.005661</td>\n",
       "      <td>7.374448</td>\n",
       "      <td>True</td>\n",
       "    </tr>\n",
       "    <tr>\n",
       "      <th>1991</th>\n",
       "      <td>1</td>\n",
       "      <td>ZyE(2:0)+H</td>\n",
       "      <td>ZyE(2:0)+H</td>\n",
       "      <td>ZyE</td>\n",
       "      <td>(2:0)</td>\n",
       "      <td>(2:0)</td>\n",
       "      <td>NaN</td>\n",
       "      <td>NaN</td>\n",
       "      <td>427.357056</td>\n",
       "      <td>C29 H47 O2</td>\n",
       "      <td>...</td>\n",
       "      <td>10.438</td>\n",
       "      <td>10.451</td>\n",
       "      <td>10.478</td>\n",
       "      <td>0.008260</td>\n",
       "      <td>0.008260</td>\n",
       "      <td>0.008260</td>\n",
       "      <td>0.717129</td>\n",
       "      <td>1.859031</td>\n",
       "      <td>0.008260</td>\n",
       "      <td>True</td>\n",
       "    </tr>\n",
       "    <tr>\n",
       "      <th>1992</th>\n",
       "      <td>0</td>\n",
       "      <td>ZyE(2:0)+H</td>\n",
       "      <td>ZyE(2:0)+H</td>\n",
       "      <td>ZyE</td>\n",
       "      <td>(2:0)</td>\n",
       "      <td>(2:0)</td>\n",
       "      <td>NaN</td>\n",
       "      <td>NaN</td>\n",
       "      <td>427.357056</td>\n",
       "      <td>C29 H47 O2</td>\n",
       "      <td>...</td>\n",
       "      <td>13.930</td>\n",
       "      <td>13.921</td>\n",
       "      <td>14.027</td>\n",
       "      <td>1.927030</td>\n",
       "      <td>0.712589</td>\n",
       "      <td>0.569851</td>\n",
       "      <td>0.008260</td>\n",
       "      <td>0.855327</td>\n",
       "      <td>0.001100</td>\n",
       "      <td>True</td>\n",
       "    </tr>\n",
       "    <tr>\n",
       "      <th>1993</th>\n",
       "      <td>1</td>\n",
       "      <td>ZyE(30:5)+NH4</td>\n",
       "      <td>ZyE(30:5)+NH4</td>\n",
       "      <td>ZyE</td>\n",
       "      <td>(30:5)</td>\n",
       "      <td>(30:5)</td>\n",
       "      <td>NaN</td>\n",
       "      <td>NaN</td>\n",
       "      <td>826.743555</td>\n",
       "      <td>C57 H96 O2 N1</td>\n",
       "      <td>...</td>\n",
       "      <td>26.748</td>\n",
       "      <td>26.661</td>\n",
       "      <td>26.777</td>\n",
       "      <td>8.518397</td>\n",
       "      <td>0.005479</td>\n",
       "      <td>0.005479</td>\n",
       "      <td>5.030012</td>\n",
       "      <td>0.005479</td>\n",
       "      <td>0.005479</td>\n",
       "      <td>True</td>\n",
       "    </tr>\n",
       "    <tr>\n",
       "      <th>1994</th>\n",
       "      <td>1</td>\n",
       "      <td>ZyE(30:6)+NH4</td>\n",
       "      <td>ZyE(30:6)+NH4</td>\n",
       "      <td>ZyE</td>\n",
       "      <td>(30:6)</td>\n",
       "      <td>(30:6)</td>\n",
       "      <td>NaN</td>\n",
       "      <td>NaN</td>\n",
       "      <td>824.727905</td>\n",
       "      <td>C57 H94 O2 N1</td>\n",
       "      <td>...</td>\n",
       "      <td>24.722</td>\n",
       "      <td>24.534</td>\n",
       "      <td>24.979</td>\n",
       "      <td>3.811597</td>\n",
       "      <td>6.159037</td>\n",
       "      <td>0.005493</td>\n",
       "      <td>0.005493</td>\n",
       "      <td>0.005493</td>\n",
       "      <td>0.005493</td>\n",
       "      <td>True</td>\n",
       "    </tr>\n",
       "  </tbody>\n",
       "</table>\n",
       "<p>1581 rows × 35 columns</p>\n",
       "</div>"
      ],
      "text/plain": [
       "      Rej.       LipidIon     LipidGroup Class FattyAcid     FA1  FA2  FA3  \\\n",
       "0        1   AcCa(14:0)+H   AcCa(14:0)+H  AcCa    (14:0)  (14:0)  NaN  NaN   \n",
       "1        0   AcCa(16:0)+H   AcCa(16:0)+H  AcCa    (16:0)  (16:0)  NaN  NaN   \n",
       "2        0   AcCa(16:1)+H   AcCa(16:1)+H  AcCa    (16:1)  (16:1)  NaN  NaN   \n",
       "3        0   AcCa(18:0)+H   AcCa(18:0)+H  AcCa    (18:0)  (18:0)  NaN  NaN   \n",
       "4        0   AcCa(18:1)+H   AcCa(18:1)+H  AcCa    (18:1)  (18:1)  NaN  NaN   \n",
       "...    ...            ...            ...   ...       ...     ...  ...  ...   \n",
       "1990     0    ZyE(16:0)+H    ZyE(16:0)+H   ZyE    (16:0)  (16:0)  NaN  NaN   \n",
       "1991     1     ZyE(2:0)+H     ZyE(2:0)+H   ZyE     (2:0)   (2:0)  NaN  NaN   \n",
       "1992     0     ZyE(2:0)+H     ZyE(2:0)+H   ZyE     (2:0)   (2:0)  NaN  NaN   \n",
       "1993     1  ZyE(30:5)+NH4  ZyE(30:5)+NH4   ZyE    (30:5)  (30:5)  NaN  NaN   \n",
       "1994     1  ZyE(30:6)+NH4  ZyE(30:6)+NH4   ZyE    (30:6)  (30:6)  NaN  NaN   \n",
       "\n",
       "          CalcMz     IonFormula  ...  Rt[c-4]  Rt[c-5]  Rt[c-6]  \\\n",
       "0     372.310835  C21 H42 O4 N1  ...    3.376    3.286    3.264   \n",
       "1     400.342135  C23 H46 O4 N1  ...    5.080    4.987    5.036   \n",
       "2     398.326485  C23 H44 O4 N1  ...    3.511    3.438    3.541   \n",
       "3     428.373435  C25 H50 O4 N1  ...    8.730    8.561    8.624   \n",
       "4     426.357785  C25 H48 O4 N1  ...    5.295    5.266    5.218   \n",
       "...          ...            ...  ...      ...      ...      ...   \n",
       "1990  623.576156     C43 H75 O2  ...   23.728   23.707   23.788   \n",
       "1991  427.357056     C29 H47 O2  ...   10.438   10.451   10.478   \n",
       "1992  427.357056     C29 H47 O2  ...   13.930   13.921   14.027   \n",
       "1993  826.743555  C57 H96 O2 N1  ...   26.748   26.661   26.777   \n",
       "1994  824.727905  C57 H94 O2 N1  ...   24.722   24.534   24.979   \n",
       "\n",
       "      Delta(ppm)[c-1]  Delta(ppm)[c-2]  Delta(ppm)[c-3]  Delta(ppm)[c-4]  \\\n",
       "0            0.012167         0.012167         0.783029         0.012167   \n",
       "1            0.678245         0.755679         0.533369         0.385845   \n",
       "2            0.744440         0.541089         1.203862         0.186957   \n",
       "3            0.493798         0.379412         0.363071         0.232344   \n",
       "4            0.578223         0.078643         0.034079         0.639064   \n",
       "...               ...              ...              ...              ...   \n",
       "1990         0.005661         0.005661   1000000.000000         0.005661   \n",
       "1991         0.008260         0.008260         0.008260         0.717129   \n",
       "1992         1.927030         0.712589         0.569851         0.008260   \n",
       "1993         8.518397         0.005479         0.005479         5.030012   \n",
       "1994         3.811597         6.159037         0.005493         0.005493   \n",
       "\n",
       "      Delta(ppm)[c-5]  Delta(ppm)[c-6]  right_fa_count  \n",
       "0            0.012167         0.012167            True  \n",
       "1            0.018659         0.460931            True  \n",
       "2            0.209702         0.586278            True  \n",
       "3            0.484460         0.799606            True  \n",
       "4            0.786968         0.435151            True  \n",
       "...               ...              ...             ...  \n",
       "1990         0.005661         7.374448            True  \n",
       "1991         1.859031         0.008260            True  \n",
       "1992         0.855327         0.001100            True  \n",
       "1993         0.005479         0.005479            True  \n",
       "1994         0.005493         0.005493            True  \n",
       "\n",
       "[1581 rows x 35 columns]"
      ]
     },
     "execution_count": 43,
     "metadata": {},
     "output_type": "execute_result"
    }
   ],
   "source": [
    "df"
   ]
  },
  {
   "cell_type": "code",
   "execution_count": 44,
   "metadata": {},
   "outputs": [],
   "source": [
    "# Total areas for each fatty acid\n",
    "\n",
    "areas_total = rename_parts(sum_areas(df))\n",
    "areas_total_sum = pd.Series(areas_total.sum(axis = 0), name = 'Total Areas')"
   ]
  },
  {
   "cell_type": "code",
   "execution_count": 45,
   "metadata": {},
   "outputs": [],
   "source": [
    "# Phospholipid and triglyceride areas for each fatty acid\n",
    "\n",
    "df_phospho = df[df['Class'].map(lambda x: x in phospholipids)].reset_index()\n",
    "df_TG = df[df['Class'] == 'TG'].reset_index()\n",
    "areas_tg = rename_parts(sum_areas(df_TG))\n",
    "areas_phospho = rename_parts(sum_areas(df_phospho))\n",
    "areas_phospho_sum = pd.Series(areas_phospho.sum(axis = 0), name = 'Total Phospho Areas')\n",
    "areas_tg_sum = pd.Series(areas_tg.sum(axis = 0), name = 'Total TG Areas')"
   ]
  },
  {
   "cell_type": "code",
   "execution_count": 46,
   "metadata": {},
   "outputs": [],
   "source": [
    "# Calculate percent phospholipid and triglyceride, over the total lipid area\n",
    "\n",
    "percent_phospho = areas_phospho_sum/areas_total_sum*100\n",
    "percent_tg = areas_tg_sum/areas_total_sum*100\n",
    "percent_dict = {'Percent Phospho': percent_phospho, 'Percent TG':percent_tg}\n",
    "percent_total_lipids = pd.DataFrame(data = percent_dict)"
   ]
  },
  {
   "cell_type": "code",
   "execution_count": 47,
   "metadata": {},
   "outputs": [],
   "source": [
    "# Percent saturation dataframes\n",
    "\n",
    "a = areas_tg.groupby([how_much_saturated(x) for x in areas_tg.index]).sum()\n",
    "a = a / a.sum()\n",
    "b = areas_phospho.groupby([how_much_saturated(x) for x in areas_phospho.index]).sum()\n",
    "b = b / b.sum()"
   ]
  },
  {
   "cell_type": "code",
   "execution_count": 48,
   "metadata": {},
   "outputs": [],
   "source": [
    "# Save dataframes as xlsx\n",
    "\n",
    "a.to_excel(date + \"_triglycerides_saturated.xlsx\")\n",
    "b.to_excel(date + \"_phospholipids_saturated.xlsx\")\n",
    "areas_tg.to_excel(date + \"_triglycerides_areas.xlsx\")\n",
    "areas_phospho.to_excel(date + \"_phospholipids_areas.xlsx\")\n",
    "percent_total_lipids.to_excel(date + '_percent_of_total_lipids.xlsx')"
   ]
  },
  {
   "cell_type": "markdown",
   "metadata": {},
   "source": [
    "### Visualizations"
   ]
  },
  {
   "cell_type": "code",
   "execution_count": 49,
   "metadata": {},
   "outputs": [
    {
     "data": {
      "image/png": "[encoded data removed]",
      "text/plain": [
       "<Figure size 1080x360 with 3 Axes>"
      ]
     },
     "metadata": {
      "needs_background": "light"
     },
     "output_type": "display_data"
    },
    {
     "data": {
      "image/png": "[encoded data removed]",
      "text/plain": [
       "<Figure size 1080x360 with 3 Axes>"
      ]
     },
     "metadata": {
      "needs_background": "light"
     },
     "output_type": "display_data"
    }
   ],
   "source": [
    "graph_fatty_acids(areas_tg, 'Triglycerides')\n",
    "graph_fatty_acids(areas_phospho, 'Phospholipids')"
   ]
  },
  {
   "cell_type": "code",
   "execution_count": 50,
   "metadata": {},
   "outputs": [
    {
     "data": {
      "image/png": "[encoded data removed]",
      "text/plain": [
       "<Figure size 1080x360 with 3 Axes>"
      ]
     },
     "metadata": {
      "needs_background": "light"
     },
     "output_type": "display_data"
    }
   ],
   "source": [
    "graph_fatty_acids(areas_total, 'Total')"
   ]
  },
  {
   "cell_type": "code",
   "execution_count": 51,
   "metadata": {
    "scrolled": true
   },
   "outputs": [
    {
     "data": {
      "image/png": "[encoded data removed]",
      "text/plain": [
       "<Figure size 1080x360 with 2 Axes>"
      ]
     },
     "metadata": {
      "needs_background": "light"
     },
     "output_type": "display_data"
    }
   ],
   "source": [
    "plt.figure(figsize=(15, 5))\n",
    "plt.subplot(1, 2, 1)\n",
    "graph_saturation(areas_tg, 'Triglycerides')\n",
    "plt.subplot(1, 2, 2)\n",
    "graph_saturation(areas_phospho, 'Phospholipids')"
   ]
  },
  {
   "cell_type": "code",
   "execution_count": 52,
   "metadata": {},
   "outputs": [
    {
     "data": {
      "image/png": "[encoded data removed]",
      "text/plain": [
       "<Figure size 576x576 with 1 Axes>"
      ]
     },
     "metadata": {
      "needs_background": "light"
     },
     "output_type": "display_data"
    },
    {
     "data": {
      "image/png": "[encoded data removed]",
      "text/plain": [
       "<Figure size 576x576 with 1 Axes>"
      ]
     },
     "metadata": {
      "needs_background": "light"
     },
     "output_type": "display_data"
    }
   ],
   "source": [
    "loading_vectors_tg, pca_tg = run_pca(areas_tg)\n",
    "graph_pca(pca_tg, 'TG')\n",
    "loading_vectors_phospho, pca_phospho = run_pca(areas_phospho)\n",
    "graph_pca(pca_phospho, 'Phospho')"
   ]
  }
 ],
 "metadata": {
  "kernelspec": {
   "display_name": "Python 3",
   "language": "python",
   "name": "python3"
  },
  "language_info": {
   "codemirror_mode": {
    "name": "ipython",
    "version": 3
   },
   "file_extension": ".py",
   "mimetype": "text/x-python",
   "name": "python",
   "nbconvert_exporter": "python",
   "pygments_lexer": "ipython3",
   "version": "3.8.3"
  }
 },
 "nbformat": 4,
 "nbformat_minor": 4
}
